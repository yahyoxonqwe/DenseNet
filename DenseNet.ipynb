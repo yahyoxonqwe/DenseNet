{
 "cells": [
  {
   "cell_type": "code",
   "execution_count": 1,
   "id": "49cb7cd0",
   "metadata": {},
   "outputs": [
    {
     "name": "stderr",
     "output_type": "stream",
     "text": [
      "2023-05-01 19:07:35.857703: I tensorflow/core/platform/cpu_feature_guard.cc:182] This TensorFlow binary is optimized to use available CPU instructions in performance-critical operations.\n",
      "To enable the following instructions: AVX2 FMA, in other operations, rebuild TensorFlow with the appropriate compiler flags.\n",
      "2023-05-01 19:07:36.459154: W tensorflow/compiler/tf2tensorrt/utils/py_utils.cc:38] TF-TRT Warning: Could not find TensorRT\n"
     ]
    }
   ],
   "source": [
    "import tensorflow as tf\n",
    "from tensorflow.keras.layers import Dense, Flatten, Conv2D , MaxPooling2D , BatchNormalization , AveragePooling2D\n",
    "from tensorflow.keras.models import save_model,Model\n",
    "import tensorflow_datasets as tfds"
   ]
  },
  {
   "cell_type": "code",
   "execution_count": 2,
   "id": "bb642520",
   "metadata": {},
   "outputs": [
    {
     "name": "stderr",
     "output_type": "stream",
     "text": [
      "2023-05-01 19:07:37.331566: I tensorflow/compiler/xla/stream_executor/cuda/cuda_gpu_executor.cc:996] successful NUMA node read from SysFS had negative value (-1), but there must be at least one NUMA node, so returning NUMA node zero. See more at https://github.com/torvalds/linux/blob/v6.0/Documentation/ABI/testing/sysfs-bus-pci#L344-L355\n",
      "2023-05-01 19:07:37.332461: I tensorflow/compiler/xla/stream_executor/cuda/cuda_gpu_executor.cc:996] successful NUMA node read from SysFS had negative value (-1), but there must be at least one NUMA node, so returning NUMA node zero. See more at https://github.com/torvalds/linux/blob/v6.0/Documentation/ABI/testing/sysfs-bus-pci#L344-L355\n",
      "2023-05-01 19:07:37.347651: I tensorflow/compiler/xla/stream_executor/cuda/cuda_gpu_executor.cc:996] successful NUMA node read from SysFS had negative value (-1), but there must be at least one NUMA node, so returning NUMA node zero. See more at https://github.com/torvalds/linux/blob/v6.0/Documentation/ABI/testing/sysfs-bus-pci#L344-L355\n",
      "2023-05-01 19:07:37.348601: I tensorflow/compiler/xla/stream_executor/cuda/cuda_gpu_executor.cc:996] successful NUMA node read from SysFS had negative value (-1), but there must be at least one NUMA node, so returning NUMA node zero. See more at https://github.com/torvalds/linux/blob/v6.0/Documentation/ABI/testing/sysfs-bus-pci#L344-L355\n",
      "2023-05-01 19:07:37.349386: I tensorflow/compiler/xla/stream_executor/cuda/cuda_gpu_executor.cc:996] successful NUMA node read from SysFS had negative value (-1), but there must be at least one NUMA node, so returning NUMA node zero. See more at https://github.com/torvalds/linux/blob/v6.0/Documentation/ABI/testing/sysfs-bus-pci#L344-L355\n",
      "2023-05-01 19:07:37.350137: I tensorflow/compiler/xla/stream_executor/cuda/cuda_gpu_executor.cc:996] successful NUMA node read from SysFS had negative value (-1), but there must be at least one NUMA node, so returning NUMA node zero. See more at https://github.com/torvalds/linux/blob/v6.0/Documentation/ABI/testing/sysfs-bus-pci#L344-L355\n",
      "2023-05-01 19:07:37.477585: I tensorflow/compiler/xla/stream_executor/cuda/cuda_gpu_executor.cc:996] successful NUMA node read from SysFS had negative value (-1), but there must be at least one NUMA node, so returning NUMA node zero. See more at https://github.com/torvalds/linux/blob/v6.0/Documentation/ABI/testing/sysfs-bus-pci#L344-L355\n",
      "2023-05-01 19:07:37.478372: I tensorflow/compiler/xla/stream_executor/cuda/cuda_gpu_executor.cc:996] successful NUMA node read from SysFS had negative value (-1), but there must be at least one NUMA node, so returning NUMA node zero. See more at https://github.com/torvalds/linux/blob/v6.0/Documentation/ABI/testing/sysfs-bus-pci#L344-L355\n",
      "2023-05-01 19:07:37.479127: I tensorflow/compiler/xla/stream_executor/cuda/cuda_gpu_executor.cc:996] successful NUMA node read from SysFS had negative value (-1), but there must be at least one NUMA node, so returning NUMA node zero. See more at https://github.com/torvalds/linux/blob/v6.0/Documentation/ABI/testing/sysfs-bus-pci#L344-L355\n",
      "2023-05-01 19:07:37.479856: I tensorflow/compiler/xla/stream_executor/cuda/cuda_gpu_executor.cc:996] successful NUMA node read from SysFS had negative value (-1), but there must be at least one NUMA node, so returning NUMA node zero. See more at https://github.com/torvalds/linux/blob/v6.0/Documentation/ABI/testing/sysfs-bus-pci#L344-L355\n",
      "2023-05-01 19:07:37.480592: I tensorflow/compiler/xla/stream_executor/cuda/cuda_gpu_executor.cc:996] successful NUMA node read from SysFS had negative value (-1), but there must be at least one NUMA node, so returning NUMA node zero. See more at https://github.com/torvalds/linux/blob/v6.0/Documentation/ABI/testing/sysfs-bus-pci#L344-L355\n",
      "2023-05-01 19:07:37.481327: I tensorflow/compiler/xla/stream_executor/cuda/cuda_gpu_executor.cc:996] successful NUMA node read from SysFS had negative value (-1), but there must be at least one NUMA node, so returning NUMA node zero. See more at https://github.com/torvalds/linux/blob/v6.0/Documentation/ABI/testing/sysfs-bus-pci#L344-L355\n",
      "2023-05-01 19:07:38.161143: I tensorflow/compiler/xla/stream_executor/cuda/cuda_gpu_executor.cc:996] successful NUMA node read from SysFS had negative value (-1), but there must be at least one NUMA node, so returning NUMA node zero. See more at https://github.com/torvalds/linux/blob/v6.0/Documentation/ABI/testing/sysfs-bus-pci#L344-L355\n",
      "2023-05-01 19:07:38.161952: I tensorflow/compiler/xla/stream_executor/cuda/cuda_gpu_executor.cc:996] successful NUMA node read from SysFS had negative value (-1), but there must be at least one NUMA node, so returning NUMA node zero. See more at https://github.com/torvalds/linux/blob/v6.0/Documentation/ABI/testing/sysfs-bus-pci#L344-L355\n",
      "2023-05-01 19:07:38.162720: I tensorflow/compiler/xla/stream_executor/cuda/cuda_gpu_executor.cc:996] successful NUMA node read from SysFS had negative value (-1), but there must be at least one NUMA node, so returning NUMA node zero. See more at https://github.com/torvalds/linux/blob/v6.0/Documentation/ABI/testing/sysfs-bus-pci#L344-L355\n",
      "2023-05-01 19:07:38.163452: I tensorflow/compiler/xla/stream_executor/cuda/cuda_gpu_executor.cc:996] successful NUMA node read from SysFS had negative value (-1), but there must be at least one NUMA node, so returning NUMA node zero. See more at https://github.com/torvalds/linux/blob/v6.0/Documentation/ABI/testing/sysfs-bus-pci#L344-L355\n",
      "2023-05-01 19:07:38.164194: I tensorflow/compiler/xla/stream_executor/cuda/cuda_gpu_executor.cc:996] successful NUMA node read from SysFS had negative value (-1), but there must be at least one NUMA node, so returning NUMA node zero. See more at https://github.com/torvalds/linux/blob/v6.0/Documentation/ABI/testing/sysfs-bus-pci#L344-L355\n",
      "2023-05-01 19:07:38.164912: I tensorflow/core/common_runtime/gpu/gpu_device.cc:1635] Created device /job:localhost/replica:0/task:0/device:GPU:0 with 21560 MB memory:  -> device: 0, name: NVIDIA GeForce RTX 3090, pci bus id: 0000:21:00.0, compute capability: 8.6\n",
      "2023-05-01 19:07:38.165201: I tensorflow/compiler/xla/stream_executor/cuda/cuda_gpu_executor.cc:996] successful NUMA node read from SysFS had negative value (-1), but there must be at least one NUMA node, so returning NUMA node zero. See more at https://github.com/torvalds/linux/blob/v6.0/Documentation/ABI/testing/sysfs-bus-pci#L344-L355\n",
      "2023-05-01 19:07:38.165933: I tensorflow/core/common_runtime/gpu/gpu_device.cc:1635] Created device /job:localhost/replica:0/task:0/device:GPU:1 with 22256 MB memory:  -> device: 1, name: NVIDIA GeForce RTX 3090, pci bus id: 0000:4a:00.0, compute capability: 8.6\n"
     ]
    }
   ],
   "source": [
    "dataset , info = tfds.load(\"stanford_online_products\", split = \"train\"  ,with_info = True)"
   ]
  },
  {
   "cell_type": "code",
   "execution_count": 3,
   "id": "a886bacd",
   "metadata": {},
   "outputs": [],
   "source": [
    "ds_test = tfds.load(\"stanford_online_products\", split = \"test\")"
   ]
  },
  {
   "cell_type": "code",
   "execution_count": 4,
   "id": "cca46bf3",
   "metadata": {},
   "outputs": [
    {
     "data": {
      "text/plain": [
       "tfds.core.DatasetInfo(\n",
       "    name='stanford_online_products',\n",
       "    full_name='stanford_online_products/1.0.0',\n",
       "    description=\"\"\"\n",
       "    Stanford Online Products Dataset\n",
       "    \"\"\",\n",
       "    homepage='http://cvgl.stanford.edu/projects/lifted_struct/',\n",
       "    data_path='/home/airi/tensorflow_datasets/stanford_online_products/1.0.0',\n",
       "    file_format=tfrecord,\n",
       "    download_size=2.87 GiB,\n",
       "    dataset_size=2.89 GiB,\n",
       "    features=FeaturesDict({\n",
       "        'class_id': ClassLabel(shape=(), dtype=int64, num_classes=22634),\n",
       "        'image': Image(shape=(None, None, 3), dtype=uint8),\n",
       "        'super_class_id': ClassLabel(shape=(), dtype=int64, num_classes=12),\n",
       "        'super_class_id/num': ClassLabel(shape=(), dtype=int64, num_classes=12),\n",
       "    }),\n",
       "    supervised_keys=None,\n",
       "    disable_shuffling=False,\n",
       "    splits={\n",
       "        'test': <SplitInfo num_examples=60502, num_shards=16>,\n",
       "        'train': <SplitInfo num_examples=59551, num_shards=16>,\n",
       "    },\n",
       "    citation=\"\"\"@inproceedings{song2016deep,\n",
       "     author    = {Song, Hyun Oh and Xiang, Yu and Jegelka, Stefanie and Savarese, Silvio},\n",
       "     title     = {Deep Metric Learning via Lifted Structured Feature Embedding},\n",
       "     booktitle = {IEEE Conference on Computer Vision and Pattern Recognition (CVPR)},\n",
       "     year      = {2016}\n",
       "    }\"\"\",\n",
       ")"
      ]
     },
     "execution_count": 4,
     "metadata": {},
     "output_type": "execute_result"
    }
   ],
   "source": [
    "info"
   ]
  },
  {
   "cell_type": "code",
   "execution_count": 5,
   "id": "d9bf9d7b",
   "metadata": {},
   "outputs": [],
   "source": [
    "batch_size = 64\n",
    "def preprocess_data(example):\n",
    "    image = example['image']\n",
    "    image = tf.image.resize(image, [224, 224])\n",
    "    image = tf.cast(image, tf.float32) / 255.0\n",
    "    label = example['super_class_id']\n",
    "    return image, label\n"
   ]
  },
  {
   "cell_type": "code",
   "execution_count": 6,
   "id": "7e197ac5",
   "metadata": {},
   "outputs": [],
   "source": [
    "dataset = dataset.map(preprocess_data)\n",
    "ds_test = ds_test.map(preprocess_data)\n",
    "\n",
    "dataset = dataset.batch(batch_size).prefetch(tf.data.experimental.AUTOTUNE)\n",
    "ds_test = ds_test.batch(batch_size).prefetch(tf.data.experimental.AUTOTUNE)"
   ]
  },
  {
   "cell_type": "code",
   "execution_count": 7,
   "id": "202ec506",
   "metadata": {},
   "outputs": [],
   "source": [
    "class DenseNet(tf.keras.Model):\n",
    "    def __init__(self , n_class):\n",
    "        super(DenseNet, self).__init__()\n",
    "        self.conv1 = tf.keras.layers.Conv2D(64, 7, strides = 2, padding='same', activation='relu')\n",
    "        self.maxpool1 = tf.keras.layers.MaxPool2D(2)\n",
    "        self.block1 = self.build_block(6, 32)\n",
    "        self.transition1 = self.build_transition(0.5)\n",
    "        self.block2 = self.build_block(12, 32)\n",
    "        self.transition2 = self.build_transition(0.5)\n",
    "        self.block3 = self.build_block(32, 32)\n",
    "        self.transition3 = self.build_transition(0.5)\n",
    "        self.block4 = self.build_block(32, 32)\n",
    "        self.avgpool = tf.keras.layers.GlobalAveragePooling2D()\n",
    "        self.fc = tf.keras.layers.Dense(n_class, activation='softmax')\n",
    "\n",
    "    def build_block(self, layers, growth_rate):\n",
    "        block = tf.keras.Sequential()\n",
    "        for i in range(layers):\n",
    "            block.add(self.build_layer(growth_rate))\n",
    "        return block\n",
    "\n",
    "    def build_layer(self, growth_rate):\n",
    "        layer = tf.keras.Sequential()\n",
    "        layer.add(tf.keras.layers.BatchNormalization())\n",
    "        layer.add(tf.keras.layers.Activation('relu'))\n",
    "        layer.add(tf.keras.layers.Conv2D(4 * growth_rate, 1, padding='same'))\n",
    "        layer.add(tf.keras.layers.BatchNormalization())\n",
    "        layer.add(tf.keras.layers.Activation('relu'))\n",
    "        layer.add(tf.keras.layers.Conv2D(growth_rate, 3, padding='same'))\n",
    "        return layer\n",
    "\n",
    "    def build_transition(self, reduction):\n",
    "        transition = tf.keras.Sequential()\n",
    "        transition.add(tf.keras.layers.BatchNormalization())\n",
    "        transition.add(tf.keras.layers.Activation('relu'))\n",
    "        transition.add(tf.keras.layers.Conv2D(int(reduction*32), 1, padding='same'))\n",
    "        transition.add(tf.keras.layers.AveragePooling2D(2))\n",
    "        return transition\n",
    "\n",
    "    def call(self, x):\n",
    "        x = self.conv1(x)\n",
    "        x = self.maxpool1(x)\n",
    "        x = self.block1(x)\n",
    "        x = self.transition1(x)\n",
    "        x = self.block2(x)\n",
    "        x = self.transition2(x)\n",
    "        x = self.block3(x)\n",
    "        x = self.transition3(x)\n",
    "        x = self.block4(x)\n",
    "        x = self.avgpool(x)\n",
    "        x = self.fc(x)\n",
    "        return x\n",
    "    def model(self):\n",
    "        x = tf.keras.layers.Input(shape=(224, 224, 3))\n",
    "        return tf.keras.models.Model(inputs=[x], outputs=self.call(x))    \n"
   ]
  },
  {
   "cell_type": "code",
   "execution_count": 8,
   "id": "bb6d579f",
   "metadata": {},
   "outputs": [
    {
     "name": "stdout",
     "output_type": "stream",
     "text": [
      "Model: \"model\"\n",
      "_________________________________________________________________\n",
      " Layer (type)                Output Shape              Param #   \n",
      "=================================================================\n",
      " input_1 (InputLayer)        [(None, 224, 224, 3)]     0         \n",
      "                                                                 \n",
      " conv2d (Conv2D)             (None, 112, 112, 64)      9472      \n",
      "                                                                 \n",
      " max_pooling2d (MaxPooling2D  (None, 56, 56, 64)       0         \n",
      " )                                                               \n",
      "                                                                 \n",
      " sequential (Sequential)     (None, 56, 56, 32)        254784    \n",
      "                                                                 \n",
      " sequential_7 (Sequential)   (None, 28, 28, 16)        656       \n",
      "                                                                 \n",
      " sequential_8 (Sequential)   (None, 28, 28, 32)        499008    \n",
      "                                                                 \n",
      " sequential_21 (Sequential)  (None, 14, 14, 16)        656       \n",
      "                                                                 \n",
      " sequential_22 (Sequential)  (None, 14, 14, 32)        1334208   \n",
      "                                                                 \n",
      " sequential_55 (Sequential)  (None, 7, 7, 16)          656       \n",
      "                                                                 \n",
      " sequential_56 (Sequential)  (None, 7, 7, 32)          1334208   \n",
      "                                                                 \n",
      " global_average_pooling2d (G  (None, 32)               0         \n",
      " lobalAveragePooling2D)                                          \n",
      "                                                                 \n",
      " dense (Dense)               (None, 12)                396       \n",
      "                                                                 \n",
      "=================================================================\n",
      "Total params: 3,434,044\n",
      "Trainable params: 3,407,644\n",
      "Non-trainable params: 26,400\n",
      "_________________________________________________________________\n"
     ]
    }
   ],
   "source": [
    "model = DenseNet(12)\n",
    "model.model().summary()"
   ]
  },
  {
   "cell_type": "code",
   "execution_count": 9,
   "id": "040cb8d7",
   "metadata": {},
   "outputs": [],
   "source": [
    "loss_object = tf.keras.losses.SparseCategoricalCrossentropy()\n",
    "optimizer = tf.keras.optimizers.Adam(0.0001)"
   ]
  },
  {
   "cell_type": "code",
   "execution_count": 10,
   "id": "387eb221",
   "metadata": {},
   "outputs": [],
   "source": [
    "train_loss = tf.keras.metrics.Mean(name='train_loss')\n",
    "train_accuracy = tf.keras.metrics.SparseCategoricalAccuracy(name='train_accuracy')\n",
    "\n",
    "test_loss = tf.keras.metrics.Mean(name='test_loss')\n",
    "test_accuracy = tf.keras.metrics.SparseCategoricalAccuracy(name='test_accuracy')"
   ]
  },
  {
   "cell_type": "code",
   "execution_count": 11,
   "id": "6ecd8ceb",
   "metadata": {},
   "outputs": [],
   "source": [
    "@tf.function\n",
    "def train_step(x_train, y_train):\n",
    "    with tf.GradientTape() as tape:\n",
    "        predictions = model(x_train, training=True)\n",
    "        loss = loss_object(y_train, predictions)\n",
    "    gradients = tape.gradient(loss, model.trainable_variables)\n",
    "    optimizer.apply_gradients(zip(gradients, model.trainable_variables))\n",
    "\n",
    "    train_loss(loss)\n",
    "    train_accuracy(y_train, predictions)"
   ]
  },
  {
   "cell_type": "code",
   "execution_count": 12,
   "id": "1d8d6fa7",
   "metadata": {},
   "outputs": [],
   "source": [
    "@tf.function\n",
    "def test_step(images, labels):\n",
    "    predictions = model(images, training=False)\n",
    "    t_loss = loss_object(labels, predictions)\n",
    "\n",
    "    test_loss(t_loss)\n",
    "    test_accuracy(labels, predictions)"
   ]
  },
  {
   "cell_type": "code",
   "execution_count": 13,
   "id": "5403b709",
   "metadata": {
    "scrolled": false
   },
   "outputs": [
    {
     "name": "stderr",
     "output_type": "stream",
     "text": [
      "2023-05-01 19:07:41.630336: I tensorflow/core/common_runtime/executor.cc:1197] [/device:CPU:0] (DEBUG INFO) Executor start aborting (this does not indicate an error and you can ignore this message): INVALID_ARGUMENT: You must feed a value for placeholder tensor 'Placeholder/_2' with dtype string and shape [16]\n",
      "\t [[{{node Placeholder/_2}}]]\n",
      "2023-05-01 19:07:41.630648: I tensorflow/core/common_runtime/executor.cc:1197] [/device:CPU:0] (DEBUG INFO) Executor start aborting (this does not indicate an error and you can ignore this message): INVALID_ARGUMENT: You must feed a value for placeholder tensor 'Placeholder/_1' with dtype string and shape [16]\n",
      "\t [[{{node Placeholder/_1}}]]\n",
      "2023-05-01 19:08:08.095940: I tensorflow/compiler/xla/stream_executor/cuda/cuda_dnn.cc:424] Loaded cuDNN version 8600\n",
      "2023-05-01 19:08:09.074467: I tensorflow/compiler/xla/stream_executor/cuda/cuda_blas.cc:637] TensorFloat-32 will be used for the matrix multiplication. This will only be logged once.\n",
      "2023-05-01 19:08:10.271409: I tensorflow/compiler/xla/service/service.cc:169] XLA service 0x7f1c960d3d80 initialized for platform CUDA (this does not guarantee that XLA will be used). Devices:\n",
      "2023-05-01 19:08:10.271445: I tensorflow/compiler/xla/service/service.cc:177]   StreamExecutor device (0): NVIDIA GeForce RTX 3090, Compute Capability 8.6\n",
      "2023-05-01 19:08:10.271449: I tensorflow/compiler/xla/service/service.cc:177]   StreamExecutor device (1): NVIDIA GeForce RTX 3090, Compute Capability 8.6\n",
      "2023-05-01 19:08:10.275108: I tensorflow/compiler/mlir/tensorflow/utils/dump_mlir_util.cc:269] disabling MLIR crash reproducer, set env var `MLIR_CRASH_REPRODUCER_DIRECTORY` to enable.\n",
      "2023-05-01 19:08:10.292332: W tensorflow/compiler/xla/service/gpu/llvm_gpu_backend/gpu_backend_lib.cc:530] Can't find libdevice directory ${CUDA_DIR}/nvvm/libdevice. This may result in compilation or runtime failures, if the program we try to run uses routines from libdevice.\n",
      "Searched for CUDA in the following directories:\n",
      "  ./cuda_sdk_lib\n",
      "  /usr/local/cuda-11.8\n",
      "  /usr/local/cuda\n",
      "  .\n",
      "You can choose the search directory by setting xla_gpu_cuda_data_dir in HloModule's DebugOptions.  For most apps, setting the environment variable XLA_FLAGS=--xla_gpu_cuda_data_dir=/path/to/cuda will work.\n",
      "2023-05-01 19:08:10.399297: I ./tensorflow/compiler/jit/device_compiler.h:180] Compiled cluster using XLA!  This line is logged at most once for the lifetime of the process.\n",
      "2023-05-01 19:10:39.594090: I tensorflow/core/common_runtime/executor.cc:1197] [/device:CPU:0] (DEBUG INFO) Executor start aborting (this does not indicate an error and you can ignore this message): INVALID_ARGUMENT: You must feed a value for placeholder tensor 'Placeholder/_0' with dtype string and shape [16]\n",
      "\t [[{{node Placeholder/_0}}]]\n",
      "2023-05-01 19:10:39.594683: I tensorflow/core/common_runtime/executor.cc:1197] [/device:CPU:0] (DEBUG INFO) Executor start aborting (this does not indicate an error and you can ignore this message): INVALID_ARGUMENT: You must feed a value for placeholder tensor 'Placeholder/_4' with dtype int64 and shape [16]\n",
      "\t [[{{node Placeholder/_4}}]]\n"
     ]
    },
    {
     "name": "stdout",
     "output_type": "stream",
     "text": [
      "Epoch 1, Loss: 2.464428663253784, Accuracy: 0.11218955367803574, ValLoss: 2.5016608238220215, ValAccuracy: 0.1174176037311554, \n",
      "Epoch 2, Loss: 2.4593288898468018, Accuracy: 0.1145908534526825, ValLoss: 2.497134208679199, ValAccuracy: 0.11606227606534958, \n",
      "Epoch 3, Loss: 2.455869197845459, Accuracy: 0.1157999038696289, ValLoss: 2.4804885387420654, ValAccuracy: 0.1259462535381317, \n",
      "Epoch 4, Loss: 2.4543609619140625, Accuracy: 0.11704253405332565, ValLoss: 2.505772113800049, ValAccuracy: 0.11950018256902695, \n",
      "Epoch 5, Loss: 2.4541854858398438, Accuracy: 0.11709291487932205, ValLoss: 2.4857990741729736, ValAccuracy: 0.11882251501083374, \n"
     ]
    }
   ],
   "source": [
    "EPOCHS = 5\n",
    "for epoch in range(EPOCHS):\n",
    "    train_loss.reset_states()\n",
    "    train_accuracy.reset_states()\n",
    "    test_loss.reset_states()\n",
    "    test_accuracy.reset_states()\n",
    "\n",
    "    for images  ,labels in dataset:\n",
    "\n",
    "        train_step(images , labels)\n",
    "    for images  ,labels in ds_test:\n",
    "\n",
    "        test_step(images , labels)       \n",
    "\n",
    "\n",
    "\n",
    "    print(\n",
    "    f'Epoch {epoch + 1}, '\n",
    "    f'Loss: {train_loss.result()}, '\n",
    "    f'Accuracy: {train_accuracy.result()}, '\n",
    "    f'ValLoss: {test_loss.result()}, '\n",
    "    f'ValAccuracy: {test_accuracy.result()}, '\n",
    "  )"
   ]
  },
  {
   "cell_type": "code",
   "execution_count": 15,
   "id": "d865aa2d",
   "metadata": {},
   "outputs": [
    {
     "name": "stderr",
     "output_type": "stream",
     "text": [
      "WARNING:absl:Found untraced functions such as _jit_compiled_convolution_op, _jit_compiled_convolution_op, _jit_compiled_convolution_op, _jit_compiled_convolution_op, _jit_compiled_convolution_op while saving (showing 5 of 168). These functions will not be directly callable after loading.\n"
     ]
    },
    {
     "name": "stdout",
     "output_type": "stream",
     "text": [
      "INFO:tensorflow:Assets written to: model/assets\n"
     ]
    },
    {
     "name": "stderr",
     "output_type": "stream",
     "text": [
      "INFO:tensorflow:Assets written to: model/assets\n"
     ]
    }
   ],
   "source": [
    "tf.saved_model.save(model , 'model')"
   ]
  },
  {
   "cell_type": "code",
   "execution_count": null,
   "id": "5c591bf6",
   "metadata": {},
   "outputs": [],
   "source": []
  }
 ],
 "metadata": {
  "kernelspec": {
   "display_name": "Python 3 (ipykernel)",
   "language": "python",
   "name": "python3"
  },
  "language_info": {
   "codemirror_mode": {
    "name": "ipython",
    "version": 3
   },
   "file_extension": ".py",
   "mimetype": "text/x-python",
   "name": "python",
   "nbconvert_exporter": "python",
   "pygments_lexer": "ipython3",
   "version": "3.9.16"
  }
 },
 "nbformat": 4,
 "nbformat_minor": 5
}
